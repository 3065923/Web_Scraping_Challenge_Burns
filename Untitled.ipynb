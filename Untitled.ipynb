{
 "cells": [
  {
   "cell_type": "markdown",
   "id": "4b315260",
   "metadata": {},
   "source": [
    "def scrape_info():\n",
    "    # Set up Splinter\n",
    "    executable_path = {'executable_path': ChromeDriverManager().install()}\n",
    "    browser = Browser('chrome', **executable_path, headless=False)\n",
    "\n",
    "    # Visit visitcostarica.herokuapp.com\n",
    "    url = \"https://visitcostarica.herokuapp.com/\"\n",
    "    browser.visit(url)\n",
    "\n",
    "    time.sleep(1)\n",
    "\n",
    "    # Scrape page into Soup\n",
    "    html = browser.html\n",
    "    soup = bs(html, \"html.parser\")\n",
    "\n",
    "    # Get the average temps\n",
    "    avg_temps = soup.find('div', id='weather')\n",
    "\n",
    "    # Get the min avg temp\n",
    "    min_temp = avg_temps.find_all('strong')[0].text\n",
    "\n",
    "    # Get the max avg temp\n",
    "    max_temp = avg_temps.find_all('strong')[1].text\n",
    "\n",
    "    # BONUS: Find the src for the sloth image\n",
    "    relative_image_path = soup.find_all('img')[2][\"src\"]\n",
    "    sloth_img = url + relative_image_path\n",
    "\n",
    "    # Store data in a dictionary\n",
    "    costa_data = {\n",
    "        \"sloth_img\": sloth_img,\n",
    "        \"min_temp\": min_temp,\n",
    "        \"max_temp\": max_temp\n",
    "    }\n",
    "\n",
    "    # Close the browser after scraping\n",
    "    browser.quit()\n",
    "\n",
    "    # Return results\n",
    "    return costa_data\n"
   ]
  },
  {
   "cell_type": "code",
   "execution_count": 1,
   "id": "0fbef26b",
   "metadata": {},
   "outputs": [],
   "source": [
    "from splinter import Browser\n",
    "from bs4 import BeautifulSoup as bs\n",
    "import time\n",
    "from webdriver_manager.chrome import ChromeDriverManager"
   ]
  },
  {
   "cell_type": "code",
   "execution_count": 2,
   "id": "19e77115",
   "metadata": {},
   "outputs": [
    {
     "name": "stderr",
     "output_type": "stream",
     "text": [
      "\n",
      "\n",
      "====== WebDriver manager ======\n",
      "Current google-chrome version is 91.0.4472\n",
      "Get LATEST driver version for 91.0.4472\n",
      "There is no [win32] chromedriver for browser 91.0.4472 in cache\n",
      "Get LATEST driver version for 91.0.4472\n",
      "Trying to download new driver from https://chromedriver.storage.googleapis.com/91.0.4472.101/chromedriver_win32.zip\n",
      "Driver has been saved in cache [C:\\Users\\burns\\.wdm\\drivers\\chromedriver\\win32\\91.0.4472.101]\n"
     ]
    }
   ],
   "source": [
    "# Set up Splinter\n",
    "    executable_path = {'executable_path': ChromeDriverManager().install()}\n",
    "    browser = Browser('chrome', **executable_path, headless=False)"
   ]
  },
  {
   "cell_type": "code",
   "execution_count": 3,
   "id": "40aff247",
   "metadata": {},
   "outputs": [],
   "source": [
    "# Visit visitcostarica.herokuapp.com\n",
    "url = \"https://visitcostarica.herokuapp.com/\"\n",
    "browser.visit(url)"
   ]
  },
  {
   "cell_type": "code",
   "execution_count": 4,
   "id": "1e8df68d",
   "metadata": {},
   "outputs": [],
   "source": [
    "# Scrape page into Soup\n",
    "html = browser.html\n",
    "soup = bs(html, \"html.parser\")"
   ]
  },
  {
   "cell_type": "code",
   "execution_count": 5,
   "id": "01a04b2d",
   "metadata": {},
   "outputs": [
    {
     "data": {
      "text/plain": [
       "bs4.BeautifulSoup"
      ]
     },
     "execution_count": 5,
     "metadata": {},
     "output_type": "execute_result"
    }
   ],
   "source": [
    "type(soup)"
   ]
  },
  {
   "cell_type": "code",
   "execution_count": 6,
   "id": "fdb5d1ee",
   "metadata": {},
   "outputs": [
    {
     "data": {
      "text/plain": [
       "<div class=\"col-md-6\" id=\"weather\">\n",
       "<h4>Costa Rican Weather</h4>\n",
       "<p>The weather in Costa Rica is one of the many appealing aspects of the country. The climate is considered both tropical\n",
       "            and subtropical, with the dry season from December to April and the rainy season from May to November. <br/><br/>Don't\n",
       "            let the rain deter you, though! Even with the extra moisture, the temperature rarely goes below <strong>63°F</strong> or above <strong>84°</strong> year-round.</p>\n",
       "</div>"
      ]
     },
     "execution_count": 6,
     "metadata": {},
     "output_type": "execute_result"
    }
   ],
   "source": [
    "# Get the average temps\n",
    "avg_temps = soup.find('div', id='weather')\n",
    "avg_temps"
   ]
  },
  {
   "cell_type": "code",
   "execution_count": 9,
   "id": "bd8d5f0e",
   "metadata": {},
   "outputs": [
    {
     "data": {
      "text/plain": [
       "'63°F'"
      ]
     },
     "execution_count": 9,
     "metadata": {},
     "output_type": "execute_result"
    }
   ],
   "source": [
    "# Get the min avg temp\n",
    "min_temp = avg_temps.find_all('strong')[0].text\n",
    "min_temp"
   ]
  },
  {
   "cell_type": "code",
   "execution_count": 10,
   "id": "925eca4a",
   "metadata": {},
   "outputs": [
    {
     "data": {
      "text/plain": [
       "'84°'"
      ]
     },
     "execution_count": 10,
     "metadata": {},
     "output_type": "execute_result"
    }
   ],
   "source": [
    "# Get the max avg temp\n",
    "max_temp = avg_temps.find_all('strong')[1].text\n",
    "max_temp"
   ]
  },
  {
   "cell_type": "code",
   "execution_count": 13,
   "id": "c21bb257",
   "metadata": {},
   "outputs": [
    {
     "data": {
      "text/plain": [
       "'https://visitcostarica.herokuapp.com/Images/sloth.jpeg'"
      ]
     },
     "execution_count": 13,
     "metadata": {},
     "output_type": "execute_result"
    }
   ],
   "source": [
    "# BONUS: Find the src for the sloth image\n",
    "relative_image_path = soup.find_all('img')[2][\"src\"]\n",
    "relative_image_path\n",
    "\n",
    "sloth_img = url + relative_image_path\n",
    "sloth_img"
   ]
  },
  {
   "cell_type": "code",
   "execution_count": null,
   "id": "ccbb528c",
   "metadata": {},
   "outputs": [],
   "source": []
  }
 ],
 "metadata": {
  "kernelspec": {
   "display_name": "Python 3",
   "language": "python",
   "name": "python3"
  },
  "language_info": {
   "codemirror_mode": {
    "name": "ipython",
    "version": 3
   },
   "file_extension": ".py",
   "mimetype": "text/x-python",
   "name": "python",
   "nbconvert_exporter": "python",
   "pygments_lexer": "ipython3",
   "version": "3.6.10"
  }
 },
 "nbformat": 4,
 "nbformat_minor": 5
}
